{
 "cells": [
  {
   "cell_type": "code",
   "execution_count": 1,
   "metadata": {},
   "outputs": [],
   "source": [
    "import numpy as np\n",
    "from scipy import signal\n",
    "import matplotlib.pyplot as plt"
   ]
  },
  {
   "cell_type": "code",
   "execution_count": 10,
   "metadata": {},
   "outputs": [],
   "source": [
    "# from biosppy.signals import ecg\n",
    "\n",
    "\n",
    "# # set sampling frequency\n",
    "# fs = 1000\n",
    "\n",
    "# out = ecg.ecg(signal=signal, sampling_rate=fs, show=True)\n",
    "\n",
    "# # # generate ECG signal\n",
    "# # ecg_signal, _ = ecg.test_signal(duration=10, sampling_rate=fs)\n",
    "\n",
    "# # # plot ECG signal\n",
    "# # plt.plot(ecg_signal)\n",
    "# # plt.xlabel('Sample')\n",
    "# # plt.ylabel('ECG Amplitude')\n",
    "# # plt.show()"
   ]
  },
  {
   "cell_type": "code",
   "execution_count": null,
   "metadata": {},
   "outputs": [],
   "source": []
  }
 ],
 "metadata": {
  "kernelspec": {
   "display_name": "Python 3",
   "language": "python",
   "name": "python3"
  },
  "language_info": {
   "codemirror_mode": {
    "name": "ipython",
    "version": 3
   },
   "file_extension": ".py",
   "mimetype": "text/x-python",
   "name": "python",
   "nbconvert_exporter": "python",
   "pygments_lexer": "ipython3",
   "version": "3.9.6"
  },
  "orig_nbformat": 4,
  "vscode": {
   "interpreter": {
    "hash": "aee8b7b246df8f9039afb4144a1f6fd8d2ca17a180786b69acc140d282b71a49"
   }
  }
 },
 "nbformat": 4,
 "nbformat_minor": 2
}
